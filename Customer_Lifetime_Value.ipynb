{
  "nbformat": 4,
  "nbformat_minor": 0,
  "metadata": {
    "colab": {
      "provenance": [],
      "collapsed_sections": [],
      "authorship_tag": "ABX9TyO5d6CB8lY1YrMHBmMLrk90",
      "include_colab_link": true
    },
    "kernelspec": {
      "name": "python3",
      "display_name": "Python 3"
    },
    "language_info": {
      "name": "python"
    }
  },
  "cells": [
    {
      "cell_type": "markdown",
      "metadata": {
        "id": "view-in-github",
        "colab_type": "text"
      },
      "source": [
        "<a href=\"https://colab.research.google.com/github/siddup9999/Customer-Lifetime-Value/blob/main/Customer_Lifetime_Value.ipynb\" target=\"_parent\"><img src=\"https://colab.research.google.com/assets/colab-badge.svg\" alt=\"Open In Colab\"/></a>"
      ]
    },
    {
      "cell_type": "code",
      "execution_count": 1,
      "metadata": {
        "id": "uICgAB7Usisr"
      },
      "outputs": [],
      "source": [
        "# importing necessary libraries\n",
        "\n",
        "import pandas as pd\n",
        "import numpy as np\n",
        "import datetime"
      ]
    },
    {
      "cell_type": "code",
      "source": [
        "from google.colab import drive\n",
        "drive.mount('/content/drive')"
      ],
      "metadata": {
        "id": "ID5bgxBjtJgL",
        "colab": {
          "base_uri": "https://localhost:8080/"
        },
        "outputId": "25d90e2e-916c-4174-cb6a-c3ac38c5ba56"
      },
      "execution_count": 2,
      "outputs": [
        {
          "output_type": "stream",
          "name": "stdout",
          "text": [
            "Mounted at /content/drive\n"
          ]
        }
      ]
    },
    {
      "cell_type": "code",
      "source": [
        "data_path = '/content/drive/MyDrive/Scanner Data/scanner_data.csv'"
      ],
      "metadata": {
        "id": "9AovICSUwP0S"
      },
      "execution_count": 3,
      "outputs": []
    },
    {
      "cell_type": "code",
      "source": [
        "# Load the data\n",
        "\n",
        "df = pd.read_csv(data_path)"
      ],
      "metadata": {
        "id": "t2OqA6wqwvP2"
      },
      "execution_count": 4,
      "outputs": []
    },
    {
      "cell_type": "code",
      "source": [
        "df.Date=pd.to_datetime(df.Date)\n",
        "df.head()"
      ],
      "metadata": {
        "colab": {
          "base_uri": "https://localhost:8080/",
          "height": 206
        },
        "id": "ZOVxzD5JzBjE",
        "outputId": "aa035674-f0c5-4341-efad-353d90ad09cc"
      },
      "execution_count": 5,
      "outputs": [
        {
          "output_type": "execute_result",
          "data": {
            "text/plain": [
              "   Unnamed: 0       Date  Customer_ID  Transaction_ID SKU_Category    SKU  \\\n",
              "0           1 2016-02-01         2547               1          X52  0EM7L   \n",
              "1           2 2016-02-01          822               2          2ML  68BRQ   \n",
              "2           3 2016-02-01         3686               3          0H2  CZUZX   \n",
              "3           4 2016-02-01         3719               4          0H2  549KK   \n",
              "4           5 2016-02-01         9200               5          0H2  K8EHH   \n",
              "\n",
              "   Quantity  Sales_Amount  \n",
              "0       1.0          3.13  \n",
              "1       1.0          5.46  \n",
              "2       1.0          6.35  \n",
              "3       1.0          5.59  \n",
              "4       1.0          6.88  "
            ],
            "text/html": [
              "\n",
              "  <div id=\"df-c47a130d-184f-4d6a-a144-cca9045b6c19\">\n",
              "    <div class=\"colab-df-container\">\n",
              "      <div>\n",
              "<style scoped>\n",
              "    .dataframe tbody tr th:only-of-type {\n",
              "        vertical-align: middle;\n",
              "    }\n",
              "\n",
              "    .dataframe tbody tr th {\n",
              "        vertical-align: top;\n",
              "    }\n",
              "\n",
              "    .dataframe thead th {\n",
              "        text-align: right;\n",
              "    }\n",
              "</style>\n",
              "<table border=\"1\" class=\"dataframe\">\n",
              "  <thead>\n",
              "    <tr style=\"text-align: right;\">\n",
              "      <th></th>\n",
              "      <th>Unnamed: 0</th>\n",
              "      <th>Date</th>\n",
              "      <th>Customer_ID</th>\n",
              "      <th>Transaction_ID</th>\n",
              "      <th>SKU_Category</th>\n",
              "      <th>SKU</th>\n",
              "      <th>Quantity</th>\n",
              "      <th>Sales_Amount</th>\n",
              "    </tr>\n",
              "  </thead>\n",
              "  <tbody>\n",
              "    <tr>\n",
              "      <th>0</th>\n",
              "      <td>1</td>\n",
              "      <td>2016-02-01</td>\n",
              "      <td>2547</td>\n",
              "      <td>1</td>\n",
              "      <td>X52</td>\n",
              "      <td>0EM7L</td>\n",
              "      <td>1.0</td>\n",
              "      <td>3.13</td>\n",
              "    </tr>\n",
              "    <tr>\n",
              "      <th>1</th>\n",
              "      <td>2</td>\n",
              "      <td>2016-02-01</td>\n",
              "      <td>822</td>\n",
              "      <td>2</td>\n",
              "      <td>2ML</td>\n",
              "      <td>68BRQ</td>\n",
              "      <td>1.0</td>\n",
              "      <td>5.46</td>\n",
              "    </tr>\n",
              "    <tr>\n",
              "      <th>2</th>\n",
              "      <td>3</td>\n",
              "      <td>2016-02-01</td>\n",
              "      <td>3686</td>\n",
              "      <td>3</td>\n",
              "      <td>0H2</td>\n",
              "      <td>CZUZX</td>\n",
              "      <td>1.0</td>\n",
              "      <td>6.35</td>\n",
              "    </tr>\n",
              "    <tr>\n",
              "      <th>3</th>\n",
              "      <td>4</td>\n",
              "      <td>2016-02-01</td>\n",
              "      <td>3719</td>\n",
              "      <td>4</td>\n",
              "      <td>0H2</td>\n",
              "      <td>549KK</td>\n",
              "      <td>1.0</td>\n",
              "      <td>5.59</td>\n",
              "    </tr>\n",
              "    <tr>\n",
              "      <th>4</th>\n",
              "      <td>5</td>\n",
              "      <td>2016-02-01</td>\n",
              "      <td>9200</td>\n",
              "      <td>5</td>\n",
              "      <td>0H2</td>\n",
              "      <td>K8EHH</td>\n",
              "      <td>1.0</td>\n",
              "      <td>6.88</td>\n",
              "    </tr>\n",
              "  </tbody>\n",
              "</table>\n",
              "</div>\n",
              "      <button class=\"colab-df-convert\" onclick=\"convertToInteractive('df-c47a130d-184f-4d6a-a144-cca9045b6c19')\"\n",
              "              title=\"Convert this dataframe to an interactive table.\"\n",
              "              style=\"display:none;\">\n",
              "        \n",
              "  <svg xmlns=\"http://www.w3.org/2000/svg\" height=\"24px\"viewBox=\"0 0 24 24\"\n",
              "       width=\"24px\">\n",
              "    <path d=\"M0 0h24v24H0V0z\" fill=\"none\"/>\n",
              "    <path d=\"M18.56 5.44l.94 2.06.94-2.06 2.06-.94-2.06-.94-.94-2.06-.94 2.06-2.06.94zm-11 1L8.5 8.5l.94-2.06 2.06-.94-2.06-.94L8.5 2.5l-.94 2.06-2.06.94zm10 10l.94 2.06.94-2.06 2.06-.94-2.06-.94-.94-2.06-.94 2.06-2.06.94z\"/><path d=\"M17.41 7.96l-1.37-1.37c-.4-.4-.92-.59-1.43-.59-.52 0-1.04.2-1.43.59L10.3 9.45l-7.72 7.72c-.78.78-.78 2.05 0 2.83L4 21.41c.39.39.9.59 1.41.59.51 0 1.02-.2 1.41-.59l7.78-7.78 2.81-2.81c.8-.78.8-2.07 0-2.86zM5.41 20L4 18.59l7.72-7.72 1.47 1.35L5.41 20z\"/>\n",
              "  </svg>\n",
              "      </button>\n",
              "      \n",
              "  <style>\n",
              "    .colab-df-container {\n",
              "      display:flex;\n",
              "      flex-wrap:wrap;\n",
              "      gap: 12px;\n",
              "    }\n",
              "\n",
              "    .colab-df-convert {\n",
              "      background-color: #E8F0FE;\n",
              "      border: none;\n",
              "      border-radius: 50%;\n",
              "      cursor: pointer;\n",
              "      display: none;\n",
              "      fill: #1967D2;\n",
              "      height: 32px;\n",
              "      padding: 0 0 0 0;\n",
              "      width: 32px;\n",
              "    }\n",
              "\n",
              "    .colab-df-convert:hover {\n",
              "      background-color: #E2EBFA;\n",
              "      box-shadow: 0px 1px 2px rgba(60, 64, 67, 0.3), 0px 1px 3px 1px rgba(60, 64, 67, 0.15);\n",
              "      fill: #174EA6;\n",
              "    }\n",
              "\n",
              "    [theme=dark] .colab-df-convert {\n",
              "      background-color: #3B4455;\n",
              "      fill: #D2E3FC;\n",
              "    }\n",
              "\n",
              "    [theme=dark] .colab-df-convert:hover {\n",
              "      background-color: #434B5C;\n",
              "      box-shadow: 0px 1px 3px 1px rgba(0, 0, 0, 0.15);\n",
              "      filter: drop-shadow(0px 1px 2px rgba(0, 0, 0, 0.3));\n",
              "      fill: #FFFFFF;\n",
              "    }\n",
              "  </style>\n",
              "\n",
              "      <script>\n",
              "        const buttonEl =\n",
              "          document.querySelector('#df-c47a130d-184f-4d6a-a144-cca9045b6c19 button.colab-df-convert');\n",
              "        buttonEl.style.display =\n",
              "          google.colab.kernel.accessAllowed ? 'block' : 'none';\n",
              "\n",
              "        async function convertToInteractive(key) {\n",
              "          const element = document.querySelector('#df-c47a130d-184f-4d6a-a144-cca9045b6c19');\n",
              "          const dataTable =\n",
              "            await google.colab.kernel.invokeFunction('convertToInteractive',\n",
              "                                                     [key], {});\n",
              "          if (!dataTable) return;\n",
              "\n",
              "          const docLinkHtml = 'Like what you see? Visit the ' +\n",
              "            '<a target=\"_blank\" href=https://colab.research.google.com/notebooks/data_table.ipynb>data table notebook</a>'\n",
              "            + ' to learn more about interactive tables.';\n",
              "          element.innerHTML = '';\n",
              "          dataTable['output_type'] = 'display_data';\n",
              "          await google.colab.output.renderOutput(dataTable, element);\n",
              "          const docLink = document.createElement('div');\n",
              "          docLink.innerHTML = docLinkHtml;\n",
              "          element.appendChild(docLink);\n",
              "        }\n",
              "      </script>\n",
              "    </div>\n",
              "  </div>\n",
              "  "
            ]
          },
          "metadata": {},
          "execution_count": 5
        }
      ]
    },
    {
      "cell_type": "code",
      "source": [
        "print(f\"Number of customers in dataset: {df.Customer_ID.nunique()}\")\n",
        "print(f\"Number of SKU Groups in dataset: {df.SKU_Category.nunique()}\")\n",
        "print(f\"Date range in dataset: {df.Date.min()} - {df.Date.max()}\")"
      ],
      "metadata": {
        "colab": {
          "base_uri": "https://localhost:8080/"
        },
        "id": "hdpm4h_pzUE3",
        "outputId": "dcc52481-0315-48d6-f2c7-093056b4cf6e"
      },
      "execution_count": 6,
      "outputs": [
        {
          "output_type": "stream",
          "name": "stdout",
          "text": [
            "Number of customers in dataset: 22625\n",
            "Number of SKU Groups in dataset: 187\n",
            "Date range in dataset: 2016-01-02 00:00:00 - 2016-12-31 00:00:00\n"
          ]
        }
      ]
    },
    {
      "cell_type": "code",
      "source": [
        "df_clean = df[['Date','Customer_ID','Transaction_ID','Quantity','Sales_Amount']]\n",
        "df_clean.head()"
      ],
      "metadata": {
        "colab": {
          "base_uri": "https://localhost:8080/",
          "height": 206
        },
        "id": "3VH1w2CW03ET",
        "outputId": "844c38a0-e572-4d91-bc50-431baa14f925"
      },
      "execution_count": 7,
      "outputs": [
        {
          "output_type": "execute_result",
          "data": {
            "text/plain": [
              "        Date  Customer_ID  Transaction_ID  Quantity  Sales_Amount\n",
              "0 2016-02-01         2547               1       1.0          3.13\n",
              "1 2016-02-01          822               2       1.0          5.46\n",
              "2 2016-02-01         3686               3       1.0          6.35\n",
              "3 2016-02-01         3719               4       1.0          5.59\n",
              "4 2016-02-01         9200               5       1.0          6.88"
            ],
            "text/html": [
              "\n",
              "  <div id=\"df-695e3c1e-e2b1-4706-a7b9-f427ba4da1a3\">\n",
              "    <div class=\"colab-df-container\">\n",
              "      <div>\n",
              "<style scoped>\n",
              "    .dataframe tbody tr th:only-of-type {\n",
              "        vertical-align: middle;\n",
              "    }\n",
              "\n",
              "    .dataframe tbody tr th {\n",
              "        vertical-align: top;\n",
              "    }\n",
              "\n",
              "    .dataframe thead th {\n",
              "        text-align: right;\n",
              "    }\n",
              "</style>\n",
              "<table border=\"1\" class=\"dataframe\">\n",
              "  <thead>\n",
              "    <tr style=\"text-align: right;\">\n",
              "      <th></th>\n",
              "      <th>Date</th>\n",
              "      <th>Customer_ID</th>\n",
              "      <th>Transaction_ID</th>\n",
              "      <th>Quantity</th>\n",
              "      <th>Sales_Amount</th>\n",
              "    </tr>\n",
              "  </thead>\n",
              "  <tbody>\n",
              "    <tr>\n",
              "      <th>0</th>\n",
              "      <td>2016-02-01</td>\n",
              "      <td>2547</td>\n",
              "      <td>1</td>\n",
              "      <td>1.0</td>\n",
              "      <td>3.13</td>\n",
              "    </tr>\n",
              "    <tr>\n",
              "      <th>1</th>\n",
              "      <td>2016-02-01</td>\n",
              "      <td>822</td>\n",
              "      <td>2</td>\n",
              "      <td>1.0</td>\n",
              "      <td>5.46</td>\n",
              "    </tr>\n",
              "    <tr>\n",
              "      <th>2</th>\n",
              "      <td>2016-02-01</td>\n",
              "      <td>3686</td>\n",
              "      <td>3</td>\n",
              "      <td>1.0</td>\n",
              "      <td>6.35</td>\n",
              "    </tr>\n",
              "    <tr>\n",
              "      <th>3</th>\n",
              "      <td>2016-02-01</td>\n",
              "      <td>3719</td>\n",
              "      <td>4</td>\n",
              "      <td>1.0</td>\n",
              "      <td>5.59</td>\n",
              "    </tr>\n",
              "    <tr>\n",
              "      <th>4</th>\n",
              "      <td>2016-02-01</td>\n",
              "      <td>9200</td>\n",
              "      <td>5</td>\n",
              "      <td>1.0</td>\n",
              "      <td>6.88</td>\n",
              "    </tr>\n",
              "  </tbody>\n",
              "</table>\n",
              "</div>\n",
              "      <button class=\"colab-df-convert\" onclick=\"convertToInteractive('df-695e3c1e-e2b1-4706-a7b9-f427ba4da1a3')\"\n",
              "              title=\"Convert this dataframe to an interactive table.\"\n",
              "              style=\"display:none;\">\n",
              "        \n",
              "  <svg xmlns=\"http://www.w3.org/2000/svg\" height=\"24px\"viewBox=\"0 0 24 24\"\n",
              "       width=\"24px\">\n",
              "    <path d=\"M0 0h24v24H0V0z\" fill=\"none\"/>\n",
              "    <path d=\"M18.56 5.44l.94 2.06.94-2.06 2.06-.94-2.06-.94-.94-2.06-.94 2.06-2.06.94zm-11 1L8.5 8.5l.94-2.06 2.06-.94-2.06-.94L8.5 2.5l-.94 2.06-2.06.94zm10 10l.94 2.06.94-2.06 2.06-.94-2.06-.94-.94-2.06-.94 2.06-2.06.94z\"/><path d=\"M17.41 7.96l-1.37-1.37c-.4-.4-.92-.59-1.43-.59-.52 0-1.04.2-1.43.59L10.3 9.45l-7.72 7.72c-.78.78-.78 2.05 0 2.83L4 21.41c.39.39.9.59 1.41.59.51 0 1.02-.2 1.41-.59l7.78-7.78 2.81-2.81c.8-.78.8-2.07 0-2.86zM5.41 20L4 18.59l7.72-7.72 1.47 1.35L5.41 20z\"/>\n",
              "  </svg>\n",
              "      </button>\n",
              "      \n",
              "  <style>\n",
              "    .colab-df-container {\n",
              "      display:flex;\n",
              "      flex-wrap:wrap;\n",
              "      gap: 12px;\n",
              "    }\n",
              "\n",
              "    .colab-df-convert {\n",
              "      background-color: #E8F0FE;\n",
              "      border: none;\n",
              "      border-radius: 50%;\n",
              "      cursor: pointer;\n",
              "      display: none;\n",
              "      fill: #1967D2;\n",
              "      height: 32px;\n",
              "      padding: 0 0 0 0;\n",
              "      width: 32px;\n",
              "    }\n",
              "\n",
              "    .colab-df-convert:hover {\n",
              "      background-color: #E2EBFA;\n",
              "      box-shadow: 0px 1px 2px rgba(60, 64, 67, 0.3), 0px 1px 3px 1px rgba(60, 64, 67, 0.15);\n",
              "      fill: #174EA6;\n",
              "    }\n",
              "\n",
              "    [theme=dark] .colab-df-convert {\n",
              "      background-color: #3B4455;\n",
              "      fill: #D2E3FC;\n",
              "    }\n",
              "\n",
              "    [theme=dark] .colab-df-convert:hover {\n",
              "      background-color: #434B5C;\n",
              "      box-shadow: 0px 1px 3px 1px rgba(0, 0, 0, 0.15);\n",
              "      filter: drop-shadow(0px 1px 2px rgba(0, 0, 0, 0.3));\n",
              "      fill: #FFFFFF;\n",
              "    }\n",
              "  </style>\n",
              "\n",
              "      <script>\n",
              "        const buttonEl =\n",
              "          document.querySelector('#df-695e3c1e-e2b1-4706-a7b9-f427ba4da1a3 button.colab-df-convert');\n",
              "        buttonEl.style.display =\n",
              "          google.colab.kernel.accessAllowed ? 'block' : 'none';\n",
              "\n",
              "        async function convertToInteractive(key) {\n",
              "          const element = document.querySelector('#df-695e3c1e-e2b1-4706-a7b9-f427ba4da1a3');\n",
              "          const dataTable =\n",
              "            await google.colab.kernel.invokeFunction('convertToInteractive',\n",
              "                                                     [key], {});\n",
              "          if (!dataTable) return;\n",
              "\n",
              "          const docLinkHtml = 'Like what you see? Visit the ' +\n",
              "            '<a target=\"_blank\" href=https://colab.research.google.com/notebooks/data_table.ipynb>data table notebook</a>'\n",
              "            + ' to learn more about interactive tables.';\n",
              "          element.innerHTML = '';\n",
              "          dataTable['output_type'] = 'display_data';\n",
              "          await google.colab.output.renderOutput(dataTable, element);\n",
              "          const docLink = document.createElement('div');\n",
              "          docLink.innerHTML = docLinkHtml;\n",
              "          element.appendChild(docLink);\n",
              "        }\n",
              "      </script>\n",
              "    </div>\n",
              "  </div>\n",
              "  "
            ]
          },
          "metadata": {},
          "execution_count": 7
        }
      ]
    },
    {
      "cell_type": "code",
      "source": [
        "def customer_frequency(data, cut_off, date_column, customer_id_column, value_column, freq='M'):\n",
        "  # Get data before cut off\n",
        "  frequency = data[data[date_column] < cut_off].copy()\n",
        "  frequency.set_index(date_column, inplace=True)\n",
        "  frequency.index = pd.DatetimeIndex(frequency.index)\n",
        "  # Group transaction by customer key\n",
        "  frequency = frequency.groupby([\n",
        "      customer_id_column,\n",
        "      pd.Grouper(freq=freq, level=date_column)\n",
        "  ]).count()\n",
        "  frequency[value_column] = 1 # Store all disinct transactions\n",
        "  #Sum distinct transactions\n",
        "  return frequency.groupby(customer_id_column).sum().reset_index().rename(\n",
        "      columns={value_column : 'frequency'}\n",
        "  )\n",
        "\n",
        "def customer_recency(data, cut_off, date_column, customer_id_column):\n",
        "  # Get data before cut off\n",
        "  recency = data[data[date_column] < cut_off].copy()\n",
        "  recency[date_column] = pd.to_datetime(recency[date_column])\n",
        "  # Group Customers by latest transaction\n",
        "  recency = recency.groupby(customer_id_column)[date_column].max()\n",
        "  return ((pd.to_datetime(cut_off) - recency).dt.days).reset_index().rename(\n",
        "      columns={date_column : 'recency'}\n",
        "  )\n",
        "  \n",
        "def customer_age(data, cut_off, date_column, customer_id_column):\n",
        "  age = data[data[date_column] < cut_off]\n",
        "  first_purchase = age.groupby(customer_id_column)[date_column].min().reset_index()\n",
        "  # Get number of days between cut off and first transaction\n",
        "  first_purchase['age'] = (cut_off - first_purchase[date_column]).dt.days\n",
        "  return first_purchase[[customer_id_column,'age']]\n",
        "\n",
        "def customer_value(data, cut_off, date_column, customer_id_column, value_column):\n",
        "  value = data[data[date_column] < cut_off]\n",
        "  value.set_index(date_column, inplace = True)\n",
        "  value.index = pd.DatetimeIndex(value.index)\n",
        "  # Get mean sales amount for each customer\n",
        "  return value.groupby(customer_id_column)[value_column].mean().reset_index().rename(\n",
        "      columns={value_column : 'value'}\n",
        "  )\n",
        "\n",
        "def customer_rfm(data, cut_off, date_column, customer_id_column, value_column, freq='M'):\n",
        "  cut_off = pd.to_datetime(cut_off)\n",
        "  # Compute Recency\n",
        "  recency = customer_recency(data, cut_off, date_column, customer_id_column)\n",
        "  # Compute Frequency\n",
        "  frequency = customer_frequency(data, cut_off, date_column, customer_id_column, value_column, freq=freq)\n",
        "  # Compute average value\n",
        "  value = customer_value(data, cut_off, date_column, customer_id_column, value_column)\n",
        "  # Compute age\n",
        "  age = customer_age(data, cut_off, date_column, customer_id_column)\n",
        "  #Merge all columns\n",
        "  return recency.merge(\n",
        "      frequency, on= customer_id_column\n",
        "      ).merge(\n",
        "          value, on=customer_id_column\n",
        "          ).merge(age, on=customer_id_column)"
      ],
      "metadata": {
        "id": "eO6gzqc41Z5O"
      },
      "execution_count": 8,
      "outputs": []
    },
    {
      "cell_type": "code",
      "source": [
        "cut_off = datetime.date(2016, 6, 1)\n",
        "data_for_rfm = df_clean[['Date', 'Customer_ID', 'Sales_Amount']]\n",
        "rfm_df = customer_rfm(data_for_rfm, cut_off, 'Date', 'Customer_ID', 'Sales_Amount', freq='W')"
      ],
      "metadata": {
        "id": "CMfpk5_Q1M0B"
      },
      "execution_count": 9,
      "outputs": []
    },
    {
      "cell_type": "code",
      "source": [
        "rfm_df"
      ],
      "metadata": {
        "colab": {
          "base_uri": "https://localhost:8080/",
          "height": 424
        },
        "id": "_TgWQ5_39GT4",
        "outputId": "27a9366d-7c6e-4138-de7d-1423def24d1b"
      },
      "execution_count": 10,
      "outputs": [
        {
          "output_type": "execute_result",
          "data": {
            "text/plain": [
              "       Customer_ID  recency  frequency      value  age\n",
              "0                1      131          1   8.145000  131\n",
              "1                2       69          1   7.770000   69\n",
              "2                3      121          1   3.640000  121\n",
              "3                5        4          4  14.672500  100\n",
              "4                6       62          1   8.516667   62\n",
              "...            ...      ...        ...        ...  ...\n",
              "13662        22611       20          1   8.750000   20\n",
              "13663        22619       50          1   3.090000   50\n",
              "13664        22620      142          1   8.600000  142\n",
              "13665        22624      110          1   9.800000  110\n",
              "13666        22625      110          1  14.875000  110\n",
              "\n",
              "[13667 rows x 5 columns]"
            ],
            "text/html": [
              "\n",
              "  <div id=\"df-a52abb14-4d62-49fd-afa7-d15f2c687930\">\n",
              "    <div class=\"colab-df-container\">\n",
              "      <div>\n",
              "<style scoped>\n",
              "    .dataframe tbody tr th:only-of-type {\n",
              "        vertical-align: middle;\n",
              "    }\n",
              "\n",
              "    .dataframe tbody tr th {\n",
              "        vertical-align: top;\n",
              "    }\n",
              "\n",
              "    .dataframe thead th {\n",
              "        text-align: right;\n",
              "    }\n",
              "</style>\n",
              "<table border=\"1\" class=\"dataframe\">\n",
              "  <thead>\n",
              "    <tr style=\"text-align: right;\">\n",
              "      <th></th>\n",
              "      <th>Customer_ID</th>\n",
              "      <th>recency</th>\n",
              "      <th>frequency</th>\n",
              "      <th>value</th>\n",
              "      <th>age</th>\n",
              "    </tr>\n",
              "  </thead>\n",
              "  <tbody>\n",
              "    <tr>\n",
              "      <th>0</th>\n",
              "      <td>1</td>\n",
              "      <td>131</td>\n",
              "      <td>1</td>\n",
              "      <td>8.145000</td>\n",
              "      <td>131</td>\n",
              "    </tr>\n",
              "    <tr>\n",
              "      <th>1</th>\n",
              "      <td>2</td>\n",
              "      <td>69</td>\n",
              "      <td>1</td>\n",
              "      <td>7.770000</td>\n",
              "      <td>69</td>\n",
              "    </tr>\n",
              "    <tr>\n",
              "      <th>2</th>\n",
              "      <td>3</td>\n",
              "      <td>121</td>\n",
              "      <td>1</td>\n",
              "      <td>3.640000</td>\n",
              "      <td>121</td>\n",
              "    </tr>\n",
              "    <tr>\n",
              "      <th>3</th>\n",
              "      <td>5</td>\n",
              "      <td>4</td>\n",
              "      <td>4</td>\n",
              "      <td>14.672500</td>\n",
              "      <td>100</td>\n",
              "    </tr>\n",
              "    <tr>\n",
              "      <th>4</th>\n",
              "      <td>6</td>\n",
              "      <td>62</td>\n",
              "      <td>1</td>\n",
              "      <td>8.516667</td>\n",
              "      <td>62</td>\n",
              "    </tr>\n",
              "    <tr>\n",
              "      <th>...</th>\n",
              "      <td>...</td>\n",
              "      <td>...</td>\n",
              "      <td>...</td>\n",
              "      <td>...</td>\n",
              "      <td>...</td>\n",
              "    </tr>\n",
              "    <tr>\n",
              "      <th>13662</th>\n",
              "      <td>22611</td>\n",
              "      <td>20</td>\n",
              "      <td>1</td>\n",
              "      <td>8.750000</td>\n",
              "      <td>20</td>\n",
              "    </tr>\n",
              "    <tr>\n",
              "      <th>13663</th>\n",
              "      <td>22619</td>\n",
              "      <td>50</td>\n",
              "      <td>1</td>\n",
              "      <td>3.090000</td>\n",
              "      <td>50</td>\n",
              "    </tr>\n",
              "    <tr>\n",
              "      <th>13664</th>\n",
              "      <td>22620</td>\n",
              "      <td>142</td>\n",
              "      <td>1</td>\n",
              "      <td>8.600000</td>\n",
              "      <td>142</td>\n",
              "    </tr>\n",
              "    <tr>\n",
              "      <th>13665</th>\n",
              "      <td>22624</td>\n",
              "      <td>110</td>\n",
              "      <td>1</td>\n",
              "      <td>9.800000</td>\n",
              "      <td>110</td>\n",
              "    </tr>\n",
              "    <tr>\n",
              "      <th>13666</th>\n",
              "      <td>22625</td>\n",
              "      <td>110</td>\n",
              "      <td>1</td>\n",
              "      <td>14.875000</td>\n",
              "      <td>110</td>\n",
              "    </tr>\n",
              "  </tbody>\n",
              "</table>\n",
              "<p>13667 rows × 5 columns</p>\n",
              "</div>\n",
              "      <button class=\"colab-df-convert\" onclick=\"convertToInteractive('df-a52abb14-4d62-49fd-afa7-d15f2c687930')\"\n",
              "              title=\"Convert this dataframe to an interactive table.\"\n",
              "              style=\"display:none;\">\n",
              "        \n",
              "  <svg xmlns=\"http://www.w3.org/2000/svg\" height=\"24px\"viewBox=\"0 0 24 24\"\n",
              "       width=\"24px\">\n",
              "    <path d=\"M0 0h24v24H0V0z\" fill=\"none\"/>\n",
              "    <path d=\"M18.56 5.44l.94 2.06.94-2.06 2.06-.94-2.06-.94-.94-2.06-.94 2.06-2.06.94zm-11 1L8.5 8.5l.94-2.06 2.06-.94-2.06-.94L8.5 2.5l-.94 2.06-2.06.94zm10 10l.94 2.06.94-2.06 2.06-.94-2.06-.94-.94-2.06-.94 2.06-2.06.94z\"/><path d=\"M17.41 7.96l-1.37-1.37c-.4-.4-.92-.59-1.43-.59-.52 0-1.04.2-1.43.59L10.3 9.45l-7.72 7.72c-.78.78-.78 2.05 0 2.83L4 21.41c.39.39.9.59 1.41.59.51 0 1.02-.2 1.41-.59l7.78-7.78 2.81-2.81c.8-.78.8-2.07 0-2.86zM5.41 20L4 18.59l7.72-7.72 1.47 1.35L5.41 20z\"/>\n",
              "  </svg>\n",
              "      </button>\n",
              "      \n",
              "  <style>\n",
              "    .colab-df-container {\n",
              "      display:flex;\n",
              "      flex-wrap:wrap;\n",
              "      gap: 12px;\n",
              "    }\n",
              "\n",
              "    .colab-df-convert {\n",
              "      background-color: #E8F0FE;\n",
              "      border: none;\n",
              "      border-radius: 50%;\n",
              "      cursor: pointer;\n",
              "      display: none;\n",
              "      fill: #1967D2;\n",
              "      height: 32px;\n",
              "      padding: 0 0 0 0;\n",
              "      width: 32px;\n",
              "    }\n",
              "\n",
              "    .colab-df-convert:hover {\n",
              "      background-color: #E2EBFA;\n",
              "      box-shadow: 0px 1px 2px rgba(60, 64, 67, 0.3), 0px 1px 3px 1px rgba(60, 64, 67, 0.15);\n",
              "      fill: #174EA6;\n",
              "    }\n",
              "\n",
              "    [theme=dark] .colab-df-convert {\n",
              "      background-color: #3B4455;\n",
              "      fill: #D2E3FC;\n",
              "    }\n",
              "\n",
              "    [theme=dark] .colab-df-convert:hover {\n",
              "      background-color: #434B5C;\n",
              "      box-shadow: 0px 1px 3px 1px rgba(0, 0, 0, 0.15);\n",
              "      filter: drop-shadow(0px 1px 2px rgba(0, 0, 0, 0.3));\n",
              "      fill: #FFFFFF;\n",
              "    }\n",
              "  </style>\n",
              "\n",
              "      <script>\n",
              "        const buttonEl =\n",
              "          document.querySelector('#df-a52abb14-4d62-49fd-afa7-d15f2c687930 button.colab-df-convert');\n",
              "        buttonEl.style.display =\n",
              "          google.colab.kernel.accessAllowed ? 'block' : 'none';\n",
              "\n",
              "        async function convertToInteractive(key) {\n",
              "          const element = document.querySelector('#df-a52abb14-4d62-49fd-afa7-d15f2c687930');\n",
              "          const dataTable =\n",
              "            await google.colab.kernel.invokeFunction('convertToInteractive',\n",
              "                                                     [key], {});\n",
              "          if (!dataTable) return;\n",
              "\n",
              "          const docLinkHtml = 'Like what you see? Visit the ' +\n",
              "            '<a target=\"_blank\" href=https://colab.research.google.com/notebooks/data_table.ipynb>data table notebook</a>'\n",
              "            + ' to learn more about interactive tables.';\n",
              "          element.innerHTML = '';\n",
              "          dataTable['output_type'] = 'display_data';\n",
              "          await google.colab.output.renderOutput(dataTable, element);\n",
              "          const docLink = document.createElement('div');\n",
              "          docLink.innerHTML = docLinkHtml;\n",
              "          element.appendChild(docLink);\n",
              "        }\n",
              "      </script>\n",
              "    </div>\n",
              "  </div>\n",
              "  "
            ]
          },
          "metadata": {},
          "execution_count": 10
        }
      ]
    },
    {
      "cell_type": "code",
      "source": [
        "def recursive_rfm(data, date_col, id_col, value_col, freq='M', start_length=30, label_period_days=30):\n",
        "  dset_list=[]\n",
        "\n",
        "  # Get start and end dates of dataset\n",
        "  start_date = data[date_col].min() + pd.Timedelta(start_length, unit = 'D')\n",
        "  end_date = data[date_col].max() - pd.Timedelta(label_period_days, units='D')\n",
        "  # Get dates at desired interval\n",
        "  dates = pd.date_range(start=start_date, end=end_date, freq=freq)\n",
        "  data[date_col]=pd.to_datetime(data[date_col])\n",
        "\n",
        "  for cut_off in dates:\n",
        "    # split\n",
        "    observed = data[data[date_col] < cut_off]\n",
        "    future = data[\n",
        "        (data[date_col] > cut_off) &\n",
        "        (data[date_col] < cut_off + pd.Timedelta(label_period_days, unit='D'))\n",
        "    ]\n",
        "\n",
        "    rfm_columns = [date_col, id_col, value_col]\n",
        "    print(f\"computing rfm features for {cut_off} to {future[date_col].max()}:\")\n",
        "    _observed = observed[rfm_columns]\n",
        "    # Compute features from observed\n",
        "    rfm_features = customer_rfm(_observed, cut_off, date_col, id_col, value_col)\n",
        "    # Compute labels from fuure\n",
        "    labels = future.groupby(id_col)[value_col].sum()\n",
        "    # Outer join features with labels to ensure customers not in observed are\n",
        "    # still recorderd\n",
        "    dset = rfm_features.merge(labels, on=id_col, how='outer').fillna(0)\n",
        "    dset_list.append(dset)\n",
        "  full_dataset = pd.concat(dset_list, axis=0)\n",
        "  res = full_dataset[full_dataset.recency !=0].dropna(axis=1, how='any')\n",
        "  return res"
      ],
      "metadata": {
        "id": "Y0NDeMB79OlO"
      },
      "execution_count": 11,
      "outputs": []
    },
    {
      "cell_type": "code",
      "source": [
        "rec_df = recursive_rfm(data_for_rfm, 'Date', 'Customer_ID', 'Sales_Amount')"
      ],
      "metadata": {
        "colab": {
          "base_uri": "https://localhost:8080/"
        },
        "id": "HdlsvZmSOBGq",
        "outputId": "6abdf82a-9285-4875-a766-cdc0e4bd9fe2"
      },
      "execution_count": 12,
      "outputs": [
        {
          "output_type": "stream",
          "name": "stderr",
          "text": [
            "/usr/local/lib/python3.7/dist-packages/ipykernel_launcher.py:9: SettingWithCopyWarning: \n",
            "A value is trying to be set on a copy of a slice from a DataFrame.\n",
            "Try using .loc[row_indexer,col_indexer] = value instead\n",
            "\n",
            "See the caveats in the documentation: https://pandas.pydata.org/pandas-docs/stable/user_guide/indexing.html#returning-a-view-versus-a-copy\n",
            "  if __name__ == '__main__':\n"
          ]
        },
        {
          "output_type": "stream",
          "name": "stdout",
          "text": [
            "computing rfm features for 2016-02-29 00:00:00 to 2016-03-29 00:00:00:\n",
            "computing rfm features for 2016-03-31 00:00:00 to 2016-04-29 00:00:00:\n",
            "computing rfm features for 2016-04-30 00:00:00 to 2016-05-29 00:00:00:\n",
            "computing rfm features for 2016-05-31 00:00:00 to 2016-06-29 00:00:00:\n",
            "computing rfm features for 2016-06-30 00:00:00 to 2016-07-29 00:00:00:\n",
            "computing rfm features for 2016-07-31 00:00:00 to 2016-08-29 00:00:00:\n",
            "computing rfm features for 2016-08-31 00:00:00 to 2016-09-29 00:00:00:\n",
            "computing rfm features for 2016-09-30 00:00:00 to 2016-10-29 00:00:00:\n",
            "computing rfm features for 2016-10-31 00:00:00 to 2016-11-29 00:00:00:\n",
            "computing rfm features for 2016-11-30 00:00:00 to 2016-12-29 00:00:00:\n"
          ]
        }
      ]
    },
    {
      "cell_type": "code",
      "source": [
        "rec_df = rec_df.sample(frac=1)"
      ],
      "metadata": {
        "id": "ugroSzIyO5ZB"
      },
      "execution_count": 13,
      "outputs": []
    },
    {
      "cell_type": "code",
      "source": [
        "from sklearn.ensemble import RandomForestRegressor\n",
        "from sklearn.model_selection import train_test_split"
      ],
      "metadata": {
        "id": "chYLS71oTUl6"
      },
      "execution_count": 14,
      "outputs": []
    },
    {
      "cell_type": "code",
      "source": [
        "X = rec_df[['recency', 'frequency', 'value', 'age']]\n",
        "y = rec_df[['Sales_Amount']].values.reshape(-1)\n",
        "\n",
        "test_size = 0.2\n",
        "X_train, X_test, y_train, y_test = train_test_split(X, y, test_size=test_size, random_state = 42, shuffle=True)"
      ],
      "metadata": {
        "id": "nCTeD8xHTmhl"
      },
      "execution_count": 15,
      "outputs": []
    },
    {
      "cell_type": "code",
      "source": [
        "from sklearn.ensemble import RandomForestRegressor\n",
        "rf = RandomForestRegressor(n_estimators = 50).fit(X_train, y_train)"
      ],
      "metadata": {
        "id": "g7iq1w54Uodj"
      },
      "execution_count": 16,
      "outputs": []
    },
    {
      "cell_type": "code",
      "source": [
        "predictions = pd.DataFrame()\n",
        "predictions['true'] = y_train\n",
        "predictions['preds'] = rf.predict(X_train)"
      ],
      "metadata": {
        "id": "d-kHGwmLA7uH"
      },
      "execution_count": 17,
      "outputs": []
    },
    {
      "cell_type": "code",
      "source": [
        "predictions_test = pd.DataFrame()\n",
        "predictions_test['true'] = y_test\n",
        "predictions_test['preds'] = rf.predict(X_test)\n"
      ],
      "metadata": {
        "id": "T6CDvfPtK_Hw"
      },
      "execution_count": 18,
      "outputs": []
    },
    {
      "cell_type": "code",
      "source": [
        "from sklearn.metrics import mean_squared_error\n",
        "train_rmse = mean_squared_error(predictions.true, predictions.preds) ** 0.5\n",
        "test_rmse = mean_squared_error(predictions_test.true, predictions_test.preds) **0.5\n",
        "\n",
        "print(f\"Train RMSE : {train_rmse}, Test RMSE: {test_rmse}\")"
      ],
      "metadata": {
        "colab": {
          "base_uri": "https://localhost:8080/"
        },
        "id": "H7bYF-pRLgzo",
        "outputId": "44064bec-9bb0-4f03-8f86-76e6b19ff380"
      },
      "execution_count": 19,
      "outputs": [
        {
          "output_type": "stream",
          "name": "stdout",
          "text": [
            "Train RMSE : 10.739094587178217, Test RMSE: 28.133155560592037\n"
          ]
        }
      ]
    },
    {
      "cell_type": "code",
      "source": [
        "import matplotlib.pyplot as plt\n",
        "\n",
        "fig, ax  =plt.subplots(2, figsize = (9,6))\n",
        "predictions.plot(ax=ax[0], title = 'Train')\n",
        "predictions_test.plot(ax=ax[1], title = 'Test')\n",
        "plt.xlabel('CustomerID')\n",
        "plt.tight_layout()\n",
        "plt.show()"
      ],
      "metadata": {
        "colab": {
          "base_uri": "https://localhost:8080/",
          "height": 441
        },
        "id": "dHAOU8uyjujU",
        "outputId": "cb848710-ff36-459a-e523-76cdacd56181"
      },
      "execution_count": 20,
      "outputs": [
        {
          "output_type": "display_data",
          "data": {
            "text/plain": [
              "<Figure size 648x432 with 2 Axes>"
            ],
            "image/png": "[encoded data removed]"
          },
          "metadata": {
            "needs_background": "light"
          }
        }
      ]
    },
    {
      "cell_type": "code",
      "source": [
        "import tensorflow as tf\n",
        "from tensorflow import keras\n",
        "from tensorflow.keras.models import Sequential\n",
        "from tensorflow.keras.layers import Dense, Dropout"
      ],
      "metadata": {
        "id": "yO2h3AYcrOJp"
      },
      "execution_count": 21,
      "outputs": []
    },
    {
      "cell_type": "code",
      "source": [
        "n_features = X.shape[-1]\n",
        "hidden_sizes = [64, 32, 16, 8]\n",
        "model = Sequential()\n",
        "for nhid in hidden_sizes:\n",
        "  model.add(Dense(nhid, input_dim=n_features, activation ='relu'))\n",
        "  model.add(Dropout(rate=0.2))\n",
        "model.add(Dense(1, activation='relu'))\n",
        "model.compile(loss=tf.keras.metrics.mean_squared_error, optimizer='adam', metrics=['mse'])"
      ],
      "metadata": {
        "id": "rM6xUOmLr-ry"
      },
      "execution_count": 22,
      "outputs": []
    },
    {
      "cell_type": "code",
      "source": [
        "X = rec_df[['recency','frequency', 'value', 'age']]\n",
        "y = rec_df[['Sales_Amount']].values.reshape(-1)\n",
        "\n",
        "test_size = 0.2\n",
        "X_train, X_test, y_train, y_test = train_test_split(X, y ,test_size=test_size, random_state=42, shuffle = True)"
      ],
      "metadata": {
        "id": "QFvyFRyjuSEx"
      },
      "execution_count": 23,
      "outputs": []
    },
    {
      "cell_type": "code",
      "source": [
        "from sklearn.preprocessing import StandardScaler\n",
        "\n",
        "scaler = StandardScaler().fit(X_train)\n",
        "label_scaler = StandardScaler().fit(y_train.reshape(-1, 1))\n",
        "\n",
        "X_train_norm = scaler.transform(X_train)\n",
        "X_test_norm = scaler.transform(X_test)\n",
        "y_train_norm = label_scaler.transform(y_train.reshape(-1,1))\n",
        "y_test_norm = label_scaler.transform(y_test.reshape(-1,1))\n",
        "\n",
        "train_inputs = X_train_norm.copy()\n",
        "train_labels = y_train_norm.copy()\n",
        "\n",
        "val_inputs = X_test_norm.copy()\n",
        "val_labels = y_test_norm.copy()"
      ],
      "metadata": {
        "id": "h7cmbttLvOCz"
      },
      "execution_count": 25,
      "outputs": []
    },
    {
      "cell_type": "code",
      "source": [
        "train_inputs.shape, train_labels.shape, val_inputs.shape, val_labels.shape"
      ],
      "metadata": {
        "colab": {
          "base_uri": "https://localhost:8080/"
        },
        "id": "jxS-bLT6qBht",
        "outputId": "2674feb8-ee14-48af-d331-616c9d807539"
      },
      "execution_count": 26,
      "outputs": [
        {
          "output_type": "execute_result",
          "data": {
            "text/plain": [
              "((120408, 4), (120408, 1), (30103, 4), (30103, 1))"
            ]
          },
          "metadata": {},
          "execution_count": 26
        }
      ]
    },
    {
      "cell_type": "code",
      "source": [
        "print(model.summary())"
      ],
      "metadata": {
        "colab": {
          "base_uri": "https://localhost:8080/"
        },
        "id": "ofMzoSLsqTe1",
        "outputId": "fa8b5f1b-2567-43b5-9229-ce1dfebe2fcd"
      },
      "execution_count": 27,
      "outputs": [
        {
          "output_type": "stream",
          "name": "stdout",
          "text": [
            "Model: \"sequential\"\n",
            "_________________________________________________________________\n",
            " Layer (type)                Output Shape              Param #   \n",
            "=================================================================\n",
            " dense (Dense)               (None, 64)                320       \n",
            "                                                                 \n",
            " dropout (Dropout)           (None, 64)                0         \n",
            "                                                                 \n",
            " dense_1 (Dense)             (None, 32)                2080      \n",
            "                                                                 \n",
            " dropout_1 (Dropout)         (None, 32)                0         \n",
            "                                                                 \n",
            " dense_2 (Dense)             (None, 16)                528       \n",
            "                                                                 \n",
            " dropout_2 (Dropout)         (None, 16)                0         \n",
            "                                                                 \n",
            " dense_3 (Dense)             (None, 8)                 136       \n",
            "                                                                 \n",
            " dropout_3 (Dropout)         (None, 8)                 0         \n",
            "                                                                 \n",
            " dense_4 (Dense)             (None, 1)                 9         \n",
            "                                                                 \n",
            "=================================================================\n",
            "Total params: 3,073\n",
            "Trainable params: 3,073\n",
            "Non-trainable params: 0\n",
            "_________________________________________________________________\n",
            "None\n"
          ]
        }
      ]
    },
    {
      "cell_type": "code",
      "source": [
        "model.fit(train_inputs, train_labels, batch_size = 128, epochs = 50, verbose = 1)"
      ],
      "metadata": {
        "colab": {
          "base_uri": "https://localhost:8080/"
        },
        "id": "DSswDHblqdau",
        "outputId": "c1c710af-c6a0-46f2-b9bf-92fbf135c508"
      },
      "execution_count": 28,
      "outputs": [
        {
          "output_type": "stream",
          "name": "stdout",
          "text": [
            "Epoch 1/50\n",
            "941/941 [==============================] - 3s 3ms/step - loss: 0.9535 - mse: 0.9535\n",
            "Epoch 2/50\n",
            "941/941 [==============================] - 2s 3ms/step - loss: 0.9332 - mse: 0.9332\n",
            "Epoch 3/50\n",
            "941/941 [==============================] - 2s 2ms/step - loss: 0.9270 - mse: 0.9270\n",
            "Epoch 4/50\n",
            "941/941 [==============================] - 2s 2ms/step - loss: 0.9238 - mse: 0.9238\n",
            "Epoch 5/50\n",
            "941/941 [==============================] - 2s 2ms/step - loss: 0.9241 - mse: 0.9241\n",
            "Epoch 6/50\n",
            "941/941 [==============================] - 2s 2ms/step - loss: 0.9197 - mse: 0.9197\n",
            "Epoch 7/50\n",
            "941/941 [==============================] - 2s 2ms/step - loss: 0.9180 - mse: 0.9180\n",
            "Epoch 8/50\n",
            "941/941 [==============================] - 2s 2ms/step - loss: 0.9168 - mse: 0.9168\n",
            "Epoch 9/50\n",
            "941/941 [==============================] - 2s 2ms/step - loss: 0.9143 - mse: 0.9143\n",
            "Epoch 10/50\n",
            "941/941 [==============================] - 2s 2ms/step - loss: 0.9129 - mse: 0.9129\n",
            "Epoch 11/50\n",
            "941/941 [==============================] - 2s 2ms/step - loss: 0.9141 - mse: 0.9141\n",
            "Epoch 12/50\n",
            "941/941 [==============================] - 2s 2ms/step - loss: 0.9159 - mse: 0.9159\n",
            "Epoch 13/50\n",
            "941/941 [==============================] - 2s 2ms/step - loss: 0.9160 - mse: 0.9160\n",
            "Epoch 14/50\n",
            "941/941 [==============================] - 2s 2ms/step - loss: 0.9134 - mse: 0.9134\n",
            "Epoch 15/50\n",
            "941/941 [==============================] - 2s 2ms/step - loss: 0.9106 - mse: 0.9106\n",
            "Epoch 16/50\n",
            "941/941 [==============================] - 2s 2ms/step - loss: 0.9115 - mse: 0.9115\n",
            "Epoch 17/50\n",
            "941/941 [==============================] - 2s 2ms/step - loss: 0.9118 - mse: 0.9118\n",
            "Epoch 18/50\n",
            "941/941 [==============================] - 2s 2ms/step - loss: 0.9123 - mse: 0.9123\n",
            "Epoch 19/50\n",
            "941/941 [==============================] - 2s 2ms/step - loss: 0.9125 - mse: 0.9125\n",
            "Epoch 20/50\n",
            "941/941 [==============================] - 2s 2ms/step - loss: 0.9119 - mse: 0.9119\n",
            "Epoch 21/50\n",
            "941/941 [==============================] - 2s 2ms/step - loss: 0.9134 - mse: 0.9134\n",
            "Epoch 22/50\n",
            "941/941 [==============================] - 2s 2ms/step - loss: 0.9125 - mse: 0.9125\n",
            "Epoch 23/50\n",
            "941/941 [==============================] - 2s 2ms/step - loss: 0.9103 - mse: 0.9103\n",
            "Epoch 24/50\n",
            "941/941 [==============================] - 2s 2ms/step - loss: 0.9138 - mse: 0.9138\n",
            "Epoch 25/50\n",
            "941/941 [==============================] - 2s 2ms/step - loss: 0.9110 - mse: 0.9110\n",
            "Epoch 26/50\n",
            "941/941 [==============================] - 2s 2ms/step - loss: 0.9115 - mse: 0.9115\n",
            "Epoch 27/50\n",
            "941/941 [==============================] - 2s 2ms/step - loss: 0.9118 - mse: 0.9118\n",
            "Epoch 28/50\n",
            "941/941 [==============================] - 2s 2ms/step - loss: 0.9102 - mse: 0.9102\n",
            "Epoch 29/50\n",
            "941/941 [==============================] - 2s 2ms/step - loss: 0.9085 - mse: 0.9085\n",
            "Epoch 30/50\n",
            "941/941 [==============================] - 2s 2ms/step - loss: 0.9124 - mse: 0.9124\n",
            "Epoch 31/50\n",
            "941/941 [==============================] - 2s 2ms/step - loss: 0.9098 - mse: 0.9098\n",
            "Epoch 32/50\n",
            "941/941 [==============================] - 2s 2ms/step - loss: 0.9127 - mse: 0.9127\n",
            "Epoch 33/50\n",
            "941/941 [==============================] - 2s 2ms/step - loss: 0.9125 - mse: 0.9125\n",
            "Epoch 34/50\n",
            "941/941 [==============================] - 2s 2ms/step - loss: 0.9146 - mse: 0.9146\n",
            "Epoch 35/50\n",
            "941/941 [==============================] - 2s 2ms/step - loss: 0.9113 - mse: 0.9113\n",
            "Epoch 36/50\n",
            "941/941 [==============================] - 2s 2ms/step - loss: 0.9094 - mse: 0.9094\n",
            "Epoch 37/50\n",
            "941/941 [==============================] - 2s 2ms/step - loss: 0.9096 - mse: 0.9096\n",
            "Epoch 38/50\n",
            "941/941 [==============================] - 2s 2ms/step - loss: 0.9103 - mse: 0.9103\n",
            "Epoch 39/50\n",
            "941/941 [==============================] - 2s 2ms/step - loss: 0.9107 - mse: 0.9107\n",
            "Epoch 40/50\n",
            "941/941 [==============================] - 2s 2ms/step - loss: 0.9114 - mse: 0.9114\n",
            "Epoch 41/50\n",
            "941/941 [==============================] - 3s 3ms/step - loss: 0.9108 - mse: 0.9108\n",
            "Epoch 42/50\n",
            "941/941 [==============================] - 2s 2ms/step - loss: 0.9112 - mse: 0.9112\n",
            "Epoch 43/50\n",
            "941/941 [==============================] - 2s 2ms/step - loss: 0.9093 - mse: 0.9093\n",
            "Epoch 44/50\n",
            "941/941 [==============================] - 2s 2ms/step - loss: 0.9111 - mse: 0.9111\n",
            "Epoch 45/50\n",
            "941/941 [==============================] - 2s 2ms/step - loss: 0.9137 - mse: 0.9137\n",
            "Epoch 46/50\n",
            "941/941 [==============================] - 2s 2ms/step - loss: 0.9124 - mse: 0.9124\n",
            "Epoch 47/50\n",
            "941/941 [==============================] - 2s 2ms/step - loss: 0.9112 - mse: 0.9112\n",
            "Epoch 48/50\n",
            "941/941 [==============================] - 2s 2ms/step - loss: 0.9112 - mse: 0.9112\n",
            "Epoch 49/50\n",
            "941/941 [==============================] - 2s 2ms/step - loss: 0.9121 - mse: 0.9121\n",
            "Epoch 50/50\n",
            "941/941 [==============================] - 2s 2ms/step - loss: 0.9112 - mse: 0.9112\n"
          ]
        },
        {
          "output_type": "execute_result",
          "data": {
            "text/plain": [
              "<keras.callbacks.History at 0x7fa1320e0b50>"
            ]
          },
          "metadata": {},
          "execution_count": 28
        }
      ]
    }
  ]
}